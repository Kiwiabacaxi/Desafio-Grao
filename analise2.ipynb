{
 "cells": [
  {
   "cell_type": "code",
   "execution_count": null,
   "metadata": {},
   "outputs": [],
   "source": [
    "import pandas as pd\n",
    "\n",
    "# Carregar o dataset\n",
    "df = pd.read_csv('./data/commerce_dataset_clean.csv', sep=';')\n",
    "\n",
    "# Vamos verificar as primeiras linhas do dataset para entender sua estrutura\n",
    "df.head()\n"
   ]
  },
  {
   "cell_type": "code",
   "execution_count": null,
   "metadata": {},
   "outputs": [],
   "source": [
    "# Cálculos das métricas de desempenho de vendas\n",
    "metrics = {}\n",
    "\n",
    "# Total de vendas no período\n",
    "metrics['total_sales'] = df['total'].sum()\n",
    "\n",
    "# Número total de produtos vendidos\n",
    "metrics['total_products_sold'] = df['quantity'].sum()\n",
    "\n",
    "# Média de preço unitário de linha de produtos\n",
    "average_unit_price_per_product_line = df.groupby('product_line')['unit_price'].mean()\n",
    "\n",
    "# Linha de produto mais vendido (em termos de quantidade)\n",
    "most_sold_product_line = df.groupby('product_line')['quantity'].sum().idxmax()\n",
    "\n",
    "# As 5 linhas de produtos mais bem avaliados (média de rating mais alta)\n",
    "top_rated_product_lines = df.groupby('product_line')['rating'].mean().sort_values(ascending=False).head(5)\n",
    "\n",
    "# Loja com o maior volume de vendas\n",
    "top_sales_branch = df.groupby('branch')['total'].sum().idxmax()\n",
    "\n",
    "# Método de pagamento mais popular por loja e mês (considerando a frequência de uso)\n",
    "popular_payment_method = df.groupby(['branch', 'month_name'])['payment_method'].agg(lambda x:x.value_counts().idxmax())\n",
    "\n",
    "# As 3 linhas de produtos com mais quantidades vendidas por gênero do cliente\n",
    "top_products_by_gender = df.groupby(['gender', 'product_line'])['quantity'].sum().groupby(level=0, group_keys=False).nlargest(3)\n",
    "\n",
    "# Produto mais lucrativo (maior receita gross_income) por filial (branch)\n",
    "most_profitable_product_by_branch = df.groupby(['branch', 'product_line'])['gross_income'].sum().groupby(level=0, group_keys=False).idxmax()\n",
    "\n",
    "# Produto mais lucrativo (maior receita gross_income) por quarter\n",
    "most_profitable_product_by_quarter = df.groupby(['quarter', 'product_line'])['gross_income'].sum().groupby(level=0, group_keys=False).idxmax()\n",
    "\n",
    "# Período do dia em que ocorre o maior número de vendas\n",
    "most_sales_time_of_day = df['time_of_day'].value_counts().idxmax()\n",
    "\n",
    "# Preparar a análise detalhada por quarter, região e categoria de produto para visualização posterior\n",
    "\n",
    "# Armazenar resultados para visualização\n",
    "metrics_results = {\n",
    "    \"average_unit_price_per_product_line\": average_unit_price_per_product_line,\n",
    "    \"most_sold_product_line\": most_sold_product_line,\n",
    "    \"top_rated_product_lines\": top_rated_product_lines,\n",
    "    \"top_sales_branch\": top_sales_branch,\n",
    "    \"popular_payment_method\": popular_payment_method,\n",
    "    \"top_products_by_gender\": top_products_by_gender,\n",
    "    \"most_profitable_product_by_branch\": most_profitable_product_by_branch,\n",
    "    \"most_profitable_product_by_quarter\": most_profitable_product_by_quarter,\n",
    "    \"most_sales_time_of_day\": most_sales_time_of_day,\n",
    "}\n",
    "\n",
    "metrics_results\n"
   ]
  }
 ],
 "metadata": {
  "kernelspec": {
   "display_name": "Python 3",
   "language": "python",
   "name": "python3"
  },
  "language_info": {
   "codemirror_mode": {
    "name": "ipython",
    "version": 3
   },
   "file_extension": ".py",
   "mimetype": "text/x-python",
   "name": "python",
   "nbconvert_exporter": "python",
   "pygments_lexer": "ipython3",
   "version": "3.12.1"
  }
 },
 "nbformat": 4,
 "nbformat_minor": 2
}
